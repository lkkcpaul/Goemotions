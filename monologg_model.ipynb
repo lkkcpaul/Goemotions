{
 "cells": [
  {
   "cell_type": "code",
   "execution_count": 59,
   "id": "09601eaa-5bc3-4217-9898-4695039a93b8",
   "metadata": {},
   "outputs": [],
   "source": [
    "from transformers import pipeline"
   ]
  },
  {
   "cell_type": "code",
   "execution_count": 56,
   "id": "22a99219-908b-43d2-a331-d216275c6c1d",
   "metadata": {},
   "outputs": [
    {
     "name": "stdout",
     "output_type": "stream",
     "text": [
      "Collecting accelerateNote: you may need to restart the kernel to use updated packages.\n",
      "\n",
      "  Downloading accelerate-0.19.0-py3-none-any.whl (219 kB)\n",
      "     ---------------------------------------- 0.0/219.1 kB ? eta -:--:--\n",
      "     -------------------------------------  215.0/219.1 kB 6.6 MB/s eta 0:00:01\n",
      "     -------------------------------------- 219.1/219.1 kB 4.4 MB/s eta 0:00:00\n",
      "Requirement already satisfied: numpy>=1.17 in c:\\users\\lkkcp\\anaconda3\\envs\\transformers\\lib\\site-packages (from accelerate) (1.24.3)\n",
      "Requirement already satisfied: pyyaml in c:\\users\\lkkcp\\anaconda3\\envs\\transformers\\lib\\site-packages (from accelerate) (6.0)\n",
      "Requirement already satisfied: psutil in c:\\users\\lkkcp\\anaconda3\\envs\\transformers\\lib\\site-packages (from accelerate) (5.9.0)\n",
      "Requirement already satisfied: torch>=1.6.0 in c:\\users\\lkkcp\\anaconda3\\envs\\transformers\\lib\\site-packages (from accelerate) (1.12.1)\n",
      "Requirement already satisfied: packaging>=20.0 in c:\\users\\lkkcp\\anaconda3\\envs\\transformers\\lib\\site-packages (from accelerate) (23.0)\n",
      "Requirement already satisfied: typing_extensions in c:\\users\\lkkcp\\anaconda3\\envs\\transformers\\lib\\site-packages (from torch>=1.6.0->accelerate) (4.5.0)\n",
      "Installing collected packages: accelerate\n",
      "Successfully installed accelerate-0.19.0\n"
     ]
    }
   ],
   "source": [
    "pip install accelerate"
   ]
  },
  {
   "cell_type": "code",
   "execution_count": 98,
   "id": "2d1e44f9-201a-46f1-95c4-080e730402ef",
   "metadata": {},
   "outputs": [
    {
     "ename": "ModuleNotFoundError",
     "evalue": "No module named 'matplotlib'",
     "output_type": "error",
     "traceback": [
      "\u001b[1;31m---------------------------------------------------------------------------\u001b[0m",
      "\u001b[1;31mModuleNotFoundError\u001b[0m                       Traceback (most recent call last)",
      "Cell \u001b[1;32mIn[98], line 4\u001b[0m\n\u001b[0;32m      2\u001b[0m \u001b[38;5;28;01mimport\u001b[39;00m \u001b[38;5;21;01mos\u001b[39;00m\n\u001b[0;32m      3\u001b[0m \u001b[38;5;28;01mimport\u001b[39;00m \u001b[38;5;21;01mnumpy\u001b[39;00m \u001b[38;5;28;01mas\u001b[39;00m \u001b[38;5;21;01mnp\u001b[39;00m\n\u001b[1;32m----> 4\u001b[0m \u001b[38;5;28;01mimport\u001b[39;00m \u001b[38;5;21;01mmatplotlib\u001b[39;00m\u001b[38;5;21;01m.\u001b[39;00m\u001b[38;5;21;01mpyplot\u001b[39;00m \u001b[38;5;28;01mas\u001b[39;00m \u001b[38;5;21;01mplt\u001b[39;00m\n",
      "\u001b[1;31mModuleNotFoundError\u001b[0m: No module named 'matplotlib'"
     ]
    }
   ],
   "source": [
    "import pandas as pd\n",
    "import os\n",
    "import numpy as np\n",
    "import matplotlib.pyplot as plt"
   ]
  },
  {
   "cell_type": "code",
   "execution_count": 61,
   "id": "e3963ea0-f574-41c3-b6ee-42524353c7da",
   "metadata": {},
   "outputs": [],
   "source": [
    "classifier = pipeline(\"sentiment-analysis\", model='monologg/bert-base-cased-goemotions-original')"
   ]
  },
  {
   "cell_type": "code",
   "execution_count": 62,
   "id": "9ee46af4-6360-4644-928b-a258e99c0539",
   "metadata": {},
   "outputs": [
    {
     "data": {
      "text/plain": [
       "[{'label': 'annoyance', 'score': 0.9783640503883362}]"
      ]
     },
     "execution_count": 62,
     "metadata": {},
     "output_type": "execute_result"
    }
   ],
   "source": [
    "classifier(\"Looks like you can't even identify sarcasm.\")"
   ]
  },
  {
   "cell_type": "code",
   "execution_count": 41,
   "id": "62797809-c496-4a2f-80b4-18d8af189409",
   "metadata": {},
   "outputs": [],
   "source": [
    "df_test = pd.read_csv('./data/test.tsv', sep='\\t', header = None, names=['Text','Class','ID'])\n",
    "df_test['List of classes'] = df_test['Class'].apply(lambda x: x.split(','))\n",
    "df_test['Len of classes'] = df_test['List of classes'].apply(lambda x: len(x))"
   ]
  },
  {
   "cell_type": "code",
   "execution_count": 42,
   "id": "310b3b5d-1607-424d-ba58-89eb4224c9c2",
   "metadata": {},
   "outputs": [
    {
     "data": {
      "text/html": [
       "<div>\n",
       "<style scoped>\n",
       "    .dataframe tbody tr th:only-of-type {\n",
       "        vertical-align: middle;\n",
       "    }\n",
       "\n",
       "    .dataframe tbody tr th {\n",
       "        vertical-align: top;\n",
       "    }\n",
       "\n",
       "    .dataframe thead th {\n",
       "        text-align: right;\n",
       "    }\n",
       "</style>\n",
       "<table border=\"1\" class=\"dataframe\">\n",
       "  <thead>\n",
       "    <tr style=\"text-align: right;\">\n",
       "      <th></th>\n",
       "      <th>Text</th>\n",
       "      <th>Class</th>\n",
       "      <th>ID</th>\n",
       "      <th>List of classes</th>\n",
       "      <th>Len of classes</th>\n",
       "    </tr>\n",
       "  </thead>\n",
       "  <tbody>\n",
       "    <tr>\n",
       "      <th>0</th>\n",
       "      <td>I’m really sorry about your situation :( Altho...</td>\n",
       "      <td>25</td>\n",
       "      <td>eecwqtt</td>\n",
       "      <td>[25]</td>\n",
       "      <td>1</td>\n",
       "    </tr>\n",
       "    <tr>\n",
       "      <th>1</th>\n",
       "      <td>It's wonderful because it's awful. At not with.</td>\n",
       "      <td>0</td>\n",
       "      <td>ed5f85d</td>\n",
       "      <td>[0]</td>\n",
       "      <td>1</td>\n",
       "    </tr>\n",
       "    <tr>\n",
       "      <th>2</th>\n",
       "      <td>Kings fan here, good luck to you guys! Will be...</td>\n",
       "      <td>13</td>\n",
       "      <td>een27c3</td>\n",
       "      <td>[13]</td>\n",
       "      <td>1</td>\n",
       "    </tr>\n",
       "    <tr>\n",
       "      <th>3</th>\n",
       "      <td>I didn't know that, thank you for teaching me ...</td>\n",
       "      <td>15</td>\n",
       "      <td>eelgwd1</td>\n",
       "      <td>[15]</td>\n",
       "      <td>1</td>\n",
       "    </tr>\n",
       "    <tr>\n",
       "      <th>4</th>\n",
       "      <td>They got bored from haunting earth for thousan...</td>\n",
       "      <td>27</td>\n",
       "      <td>eem5uti</td>\n",
       "      <td>[27]</td>\n",
       "      <td>1</td>\n",
       "    </tr>\n",
       "  </tbody>\n",
       "</table>\n",
       "</div>"
      ],
      "text/plain": [
       "                                                Text Class       ID  \\\n",
       "0  I’m really sorry about your situation :( Altho...    25  eecwqtt   \n",
       "1    It's wonderful because it's awful. At not with.     0  ed5f85d   \n",
       "2  Kings fan here, good luck to you guys! Will be...    13  een27c3   \n",
       "3  I didn't know that, thank you for teaching me ...    15  eelgwd1   \n",
       "4  They got bored from haunting earth for thousan...    27  eem5uti   \n",
       "\n",
       "  List of classes  Len of classes  \n",
       "0            [25]               1  \n",
       "1             [0]               1  \n",
       "2            [13]               1  \n",
       "3            [15]               1  \n",
       "4            [27]               1  "
      ]
     },
     "execution_count": 42,
     "metadata": {},
     "output_type": "execute_result"
    }
   ],
   "source": [
    "df_test.head()"
   ]
  },
  {
   "cell_type": "code",
   "execution_count": 93,
   "id": "ba4896a9-5b0b-4acd-aa5c-320276a75385",
   "metadata": {},
   "outputs": [
    {
     "data": {
      "text/plain": [
       "{'admiration': '0',\n",
       " 'amusement': '1',\n",
       " 'anger': '2',\n",
       " 'annoyance': '3',\n",
       " 'approval': '4',\n",
       " 'caring': '5',\n",
       " 'confusion': '6',\n",
       " 'curiosity': '7',\n",
       " 'desire': '8',\n",
       " 'disappointment': '9',\n",
       " 'disapproval': '10',\n",
       " 'disgust': '11',\n",
       " 'embarrassment': '12',\n",
       " 'excitement': '13',\n",
       " 'fear': '14',\n",
       " 'gratitude': '15',\n",
       " 'grief': '16',\n",
       " 'joy': '17',\n",
       " 'love': '18',\n",
       " 'nervousness': '19',\n",
       " 'optimism': '20',\n",
       " 'pride': '21',\n",
       " 'realization': '22',\n",
       " 'relief': '23',\n",
       " 'remorse': '24',\n",
       " 'sadness': '25',\n",
       " 'surprise': '26',\n",
       " 'neutral': '27'}"
      ]
     },
     "execution_count": 93,
     "metadata": {},
     "output_type": "execute_result"
    }
   ],
   "source": [
    "emo2idx = {}\n",
    "i = 0\n",
    "with open('./data/emotions.txt','r') as f:\n",
    "    for line in f:\n",
    "        emo2idx[line.strip()]=str(i)\n",
    "        i+=1\n",
    "emo2idx"
   ]
  },
  {
   "cell_type": "code",
   "execution_count": 83,
   "id": "9db9d5c8-326a-40ce-855d-81a0231b53dc",
   "metadata": {},
   "outputs": [
    {
     "name": "stdout",
     "output_type": "stream",
     "text": [
      "CPU times: total: 25.1 s\n",
      "Wall time: 10.5 s\n"
     ]
    },
    {
     "data": {
      "text/html": [
       "<div>\n",
       "<style scoped>\n",
       "    .dataframe tbody tr th:only-of-type {\n",
       "        vertical-align: middle;\n",
       "    }\n",
       "\n",
       "    .dataframe tbody tr th {\n",
       "        vertical-align: top;\n",
       "    }\n",
       "\n",
       "    .dataframe thead th {\n",
       "        text-align: right;\n",
       "    }\n",
       "</style>\n",
       "<table border=\"1\" class=\"dataframe\">\n",
       "  <thead>\n",
       "    <tr style=\"text-align: right;\">\n",
       "      <th></th>\n",
       "      <th>label</th>\n",
       "      <th>score</th>\n",
       "    </tr>\n",
       "  </thead>\n",
       "  <tbody>\n",
       "    <tr>\n",
       "      <th>0</th>\n",
       "      <td>sadness</td>\n",
       "      <td>0.756309</td>\n",
       "    </tr>\n",
       "    <tr>\n",
       "      <th>1</th>\n",
       "      <td>disgust</td>\n",
       "      <td>0.697608</td>\n",
       "    </tr>\n",
       "    <tr>\n",
       "      <th>2</th>\n",
       "      <td>optimism</td>\n",
       "      <td>0.640050</td>\n",
       "    </tr>\n",
       "    <tr>\n",
       "      <th>3</th>\n",
       "      <td>gratitude</td>\n",
       "      <td>0.999892</td>\n",
       "    </tr>\n",
       "    <tr>\n",
       "      <th>4</th>\n",
       "      <td>neutral</td>\n",
       "      <td>0.999953</td>\n",
       "    </tr>\n",
       "  </tbody>\n",
       "</table>\n",
       "</div>"
      ],
      "text/plain": [
       "       label     score\n",
       "0    sadness  0.756309\n",
       "1    disgust  0.697608\n",
       "2   optimism  0.640050\n",
       "3  gratitude  0.999892\n",
       "4    neutral  0.999953"
      ]
     },
     "execution_count": 83,
     "metadata": {},
     "output_type": "execute_result"
    }
   ],
   "source": [
    "%%time\n",
    "pd.DataFrame(classifier(df_test['Text'].head().tolist()))"
   ]
  },
  {
   "cell_type": "code",
   "execution_count": 75,
   "id": "44892394-b9f1-40cb-9453-7728ca5df291",
   "metadata": {},
   "outputs": [],
   "source": [
    "num_sample = df_test.shape[0]"
   ]
  },
  {
   "cell_type": "code",
   "execution_count": 82,
   "id": "c2e5a2e1-a72e-459f-a06d-37e134f2b432",
   "metadata": {},
   "outputs": [
    {
     "name": "stdout",
     "output_type": "stream",
     "text": [
      "Making predictions for test set.\n",
      "55 batches of size 100\n",
      "Complete!g batch 55 of 55\n"
     ]
    }
   ],
   "source": [
    "file_name = 'monologg_predictions'\n",
    "batch_size = 100\n",
    "num_batches = int(np.ceil(num_sample/batch_size))\n",
    "print('Making predictions for test set.')\n",
    "print(num_batches,'batches of size',batch_size)\n",
    "\n",
    "preds = classifier(df_test['Text'].head(batch_size).tolist())\n",
    "pd.DataFrame(preds).to_csv(file_name,index=False)\n",
    "\n",
    "for i in range(1,num_batches):\n",
    "    print('Processing batch',i+1,'of',num_batches,end='\\r')\n",
    "    preds = classifier(df_test.loc[i*batch_size:(i+1)*batch_size-1,'Text'].tolist())\n",
    "    pd.DataFrame(preds).to_csv(file_name,mode='a',header=False,index=False)\n",
    "print('Complete!')"
   ]
  },
  {
   "cell_type": "code",
   "execution_count": 85,
   "id": "3c992465-a4f1-4cf2-90c3-1ae1eb0ade58",
   "metadata": {},
   "outputs": [
    {
     "name": "stdout",
     "output_type": "stream",
     "text": [
      "(5427, 2)\n"
     ]
    },
    {
     "data": {
      "text/html": [
       "<div>\n",
       "<style scoped>\n",
       "    .dataframe tbody tr th:only-of-type {\n",
       "        vertical-align: middle;\n",
       "    }\n",
       "\n",
       "    .dataframe tbody tr th {\n",
       "        vertical-align: top;\n",
       "    }\n",
       "\n",
       "    .dataframe thead th {\n",
       "        text-align: right;\n",
       "    }\n",
       "</style>\n",
       "<table border=\"1\" class=\"dataframe\">\n",
       "  <thead>\n",
       "    <tr style=\"text-align: right;\">\n",
       "      <th></th>\n",
       "      <th>label</th>\n",
       "      <th>score</th>\n",
       "    </tr>\n",
       "  </thead>\n",
       "  <tbody>\n",
       "    <tr>\n",
       "      <th>0</th>\n",
       "      <td>sadness</td>\n",
       "      <td>0.756309</td>\n",
       "    </tr>\n",
       "    <tr>\n",
       "      <th>1</th>\n",
       "      <td>disgust</td>\n",
       "      <td>0.697608</td>\n",
       "    </tr>\n",
       "    <tr>\n",
       "      <th>2</th>\n",
       "      <td>optimism</td>\n",
       "      <td>0.640050</td>\n",
       "    </tr>\n",
       "    <tr>\n",
       "      <th>3</th>\n",
       "      <td>gratitude</td>\n",
       "      <td>0.999892</td>\n",
       "    </tr>\n",
       "    <tr>\n",
       "      <th>4</th>\n",
       "      <td>neutral</td>\n",
       "      <td>0.999953</td>\n",
       "    </tr>\n",
       "  </tbody>\n",
       "</table>\n",
       "</div>"
      ],
      "text/plain": [
       "       label     score\n",
       "0    sadness  0.756309\n",
       "1    disgust  0.697608\n",
       "2   optimism  0.640050\n",
       "3  gratitude  0.999892\n",
       "4    neutral  0.999953"
      ]
     },
     "execution_count": 85,
     "metadata": {},
     "output_type": "execute_result"
    }
   ],
   "source": [
    "pred_df = pd.read_csv(file_name)\n",
    "print(pred_df.shape)\n",
    "pred_df.head()"
   ]
  },
  {
   "cell_type": "code",
   "execution_count": 94,
   "id": "4a0dce32-cc20-45a4-bd87-9188f903de63",
   "metadata": {},
   "outputs": [],
   "source": [
    "pred_df['Class'] = pred_df['label'].replace(emo2idx) "
   ]
  },
  {
   "cell_type": "code",
   "execution_count": 95,
   "id": "4ac61baa-254c-4c43-87c9-a319ecc03e85",
   "metadata": {},
   "outputs": [
    {
     "data": {
      "text/html": [
       "<div>\n",
       "<style scoped>\n",
       "    .dataframe tbody tr th:only-of-type {\n",
       "        vertical-align: middle;\n",
       "    }\n",
       "\n",
       "    .dataframe tbody tr th {\n",
       "        vertical-align: top;\n",
       "    }\n",
       "\n",
       "    .dataframe thead th {\n",
       "        text-align: right;\n",
       "    }\n",
       "</style>\n",
       "<table border=\"1\" class=\"dataframe\">\n",
       "  <thead>\n",
       "    <tr style=\"text-align: right;\">\n",
       "      <th></th>\n",
       "      <th>label</th>\n",
       "      <th>score</th>\n",
       "      <th>Class</th>\n",
       "    </tr>\n",
       "  </thead>\n",
       "  <tbody>\n",
       "    <tr>\n",
       "      <th>0</th>\n",
       "      <td>sadness</td>\n",
       "      <td>0.756309</td>\n",
       "      <td>25</td>\n",
       "    </tr>\n",
       "    <tr>\n",
       "      <th>1</th>\n",
       "      <td>disgust</td>\n",
       "      <td>0.697608</td>\n",
       "      <td>11</td>\n",
       "    </tr>\n",
       "    <tr>\n",
       "      <th>2</th>\n",
       "      <td>optimism</td>\n",
       "      <td>0.640050</td>\n",
       "      <td>20</td>\n",
       "    </tr>\n",
       "    <tr>\n",
       "      <th>3</th>\n",
       "      <td>gratitude</td>\n",
       "      <td>0.999892</td>\n",
       "      <td>15</td>\n",
       "    </tr>\n",
       "    <tr>\n",
       "      <th>4</th>\n",
       "      <td>neutral</td>\n",
       "      <td>0.999953</td>\n",
       "      <td>27</td>\n",
       "    </tr>\n",
       "  </tbody>\n",
       "</table>\n",
       "</div>"
      ],
      "text/plain": [
       "       label     score Class\n",
       "0    sadness  0.756309    25\n",
       "1    disgust  0.697608    11\n",
       "2   optimism  0.640050    20\n",
       "3  gratitude  0.999892    15\n",
       "4    neutral  0.999953    27"
      ]
     },
     "execution_count": 95,
     "metadata": {},
     "output_type": "execute_result"
    }
   ],
   "source": [
    "pred_df.head()"
   ]
  },
  {
   "cell_type": "code",
   "execution_count": 103,
   "id": "92e9c12f-0875-4f1f-96e0-db8d738e8224",
   "metadata": {},
   "outputs": [],
   "source": [
    "pred_df['Correct'] = [pred_df.loc[i,'Class'] in df_test.loc[i,'List of classes'] for i in range(num_sample)]"
   ]
  },
  {
   "cell_type": "code",
   "execution_count": 112,
   "id": "92d63ce5-e503-478e-b69b-97ecff516734",
   "metadata": {},
   "outputs": [
    {
     "data": {
      "text/html": [
       "<div>\n",
       "<style scoped>\n",
       "    .dataframe tbody tr th:only-of-type {\n",
       "        vertical-align: middle;\n",
       "    }\n",
       "\n",
       "    .dataframe tbody tr th {\n",
       "        vertical-align: top;\n",
       "    }\n",
       "\n",
       "    .dataframe thead th {\n",
       "        text-align: right;\n",
       "    }\n",
       "</style>\n",
       "<table border=\"1\" class=\"dataframe\">\n",
       "  <thead>\n",
       "    <tr style=\"text-align: right;\">\n",
       "      <th></th>\n",
       "      <th>Text</th>\n",
       "      <th>Class</th>\n",
       "      <th>ID</th>\n",
       "      <th>List of classes</th>\n",
       "      <th>Len of classes</th>\n",
       "      <th>Predicted class</th>\n",
       "      <th>Predicted label</th>\n",
       "      <th>Prediction probability</th>\n",
       "      <th>Prediction correct</th>\n",
       "    </tr>\n",
       "  </thead>\n",
       "  <tbody>\n",
       "    <tr>\n",
       "      <th>0</th>\n",
       "      <td>I’m really sorry about your situation :( Altho...</td>\n",
       "      <td>25</td>\n",
       "      <td>eecwqtt</td>\n",
       "      <td>[25]</td>\n",
       "      <td>1</td>\n",
       "      <td>25</td>\n",
       "      <td>sadness</td>\n",
       "      <td>0.756309</td>\n",
       "      <td>True</td>\n",
       "    </tr>\n",
       "    <tr>\n",
       "      <th>1</th>\n",
       "      <td>It's wonderful because it's awful. At not with.</td>\n",
       "      <td>0</td>\n",
       "      <td>ed5f85d</td>\n",
       "      <td>[0]</td>\n",
       "      <td>1</td>\n",
       "      <td>11</td>\n",
       "      <td>disgust</td>\n",
       "      <td>0.697608</td>\n",
       "      <td>False</td>\n",
       "    </tr>\n",
       "    <tr>\n",
       "      <th>2</th>\n",
       "      <td>Kings fan here, good luck to you guys! Will be...</td>\n",
       "      <td>13</td>\n",
       "      <td>een27c3</td>\n",
       "      <td>[13]</td>\n",
       "      <td>1</td>\n",
       "      <td>20</td>\n",
       "      <td>optimism</td>\n",
       "      <td>0.640050</td>\n",
       "      <td>False</td>\n",
       "    </tr>\n",
       "    <tr>\n",
       "      <th>3</th>\n",
       "      <td>I didn't know that, thank you for teaching me ...</td>\n",
       "      <td>15</td>\n",
       "      <td>eelgwd1</td>\n",
       "      <td>[15]</td>\n",
       "      <td>1</td>\n",
       "      <td>15</td>\n",
       "      <td>gratitude</td>\n",
       "      <td>0.999892</td>\n",
       "      <td>True</td>\n",
       "    </tr>\n",
       "    <tr>\n",
       "      <th>4</th>\n",
       "      <td>They got bored from haunting earth for thousan...</td>\n",
       "      <td>27</td>\n",
       "      <td>eem5uti</td>\n",
       "      <td>[27]</td>\n",
       "      <td>1</td>\n",
       "      <td>27</td>\n",
       "      <td>neutral</td>\n",
       "      <td>0.999953</td>\n",
       "      <td>True</td>\n",
       "    </tr>\n",
       "    <tr>\n",
       "      <th>5</th>\n",
       "      <td>Thank you for asking questions and recognizing...</td>\n",
       "      <td>15</td>\n",
       "      <td>ef2nq7i</td>\n",
       "      <td>[15]</td>\n",
       "      <td>1</td>\n",
       "      <td>15</td>\n",
       "      <td>gratitude</td>\n",
       "      <td>0.999883</td>\n",
       "      <td>True</td>\n",
       "    </tr>\n",
       "    <tr>\n",
       "      <th>6</th>\n",
       "      <td>You’re welcome</td>\n",
       "      <td>15</td>\n",
       "      <td>efdbh17</td>\n",
       "      <td>[15]</td>\n",
       "      <td>1</td>\n",
       "      <td>15</td>\n",
       "      <td>gratitude</td>\n",
       "      <td>0.999563</td>\n",
       "      <td>True</td>\n",
       "    </tr>\n",
       "    <tr>\n",
       "      <th>7</th>\n",
       "      <td>100%! Congrats on your job too!</td>\n",
       "      <td>15</td>\n",
       "      <td>ef0ec3b</td>\n",
       "      <td>[15]</td>\n",
       "      <td>1</td>\n",
       "      <td>13</td>\n",
       "      <td>excitement</td>\n",
       "      <td>0.467985</td>\n",
       "      <td>False</td>\n",
       "    </tr>\n",
       "    <tr>\n",
       "      <th>8</th>\n",
       "      <td>I’m sorry to hear that friend :(. It’s for the...</td>\n",
       "      <td>24</td>\n",
       "      <td>ee8utmi</td>\n",
       "      <td>[24]</td>\n",
       "      <td>1</td>\n",
       "      <td>24</td>\n",
       "      <td>remorse</td>\n",
       "      <td>0.826450</td>\n",
       "      <td>True</td>\n",
       "    </tr>\n",
       "    <tr>\n",
       "      <th>9</th>\n",
       "      <td>Girlfriend weak as well, that jump was pathetic.</td>\n",
       "      <td>25</td>\n",
       "      <td>eeni74k</td>\n",
       "      <td>[25]</td>\n",
       "      <td>1</td>\n",
       "      <td>10</td>\n",
       "      <td>disapproval</td>\n",
       "      <td>0.493144</td>\n",
       "      <td>False</td>\n",
       "    </tr>\n",
       "  </tbody>\n",
       "</table>\n",
       "</div>"
      ],
      "text/plain": [
       "                                                Text Class       ID  \\\n",
       "0  I’m really sorry about your situation :( Altho...    25  eecwqtt   \n",
       "1    It's wonderful because it's awful. At not with.     0  ed5f85d   \n",
       "2  Kings fan here, good luck to you guys! Will be...    13  een27c3   \n",
       "3  I didn't know that, thank you for teaching me ...    15  eelgwd1   \n",
       "4  They got bored from haunting earth for thousan...    27  eem5uti   \n",
       "5  Thank you for asking questions and recognizing...    15  ef2nq7i   \n",
       "6                                     You’re welcome    15  efdbh17   \n",
       "7                    100%! Congrats on your job too!    15  ef0ec3b   \n",
       "8  I’m sorry to hear that friend :(. It’s for the...    24  ee8utmi   \n",
       "9   Girlfriend weak as well, that jump was pathetic.    25  eeni74k   \n",
       "\n",
       "  List of classes  Len of classes Predicted class Predicted label  \\\n",
       "0            [25]               1              25         sadness   \n",
       "1             [0]               1              11         disgust   \n",
       "2            [13]               1              20        optimism   \n",
       "3            [15]               1              15       gratitude   \n",
       "4            [27]               1              27         neutral   \n",
       "5            [15]               1              15       gratitude   \n",
       "6            [15]               1              15       gratitude   \n",
       "7            [15]               1              13      excitement   \n",
       "8            [24]               1              24         remorse   \n",
       "9            [25]               1              10     disapproval   \n",
       "\n",
       "   Prediction probability  Prediction correct  \n",
       "0                0.756309                True  \n",
       "1                0.697608               False  \n",
       "2                0.640050               False  \n",
       "3                0.999892                True  \n",
       "4                0.999953                True  \n",
       "5                0.999883                True  \n",
       "6                0.999563                True  \n",
       "7                0.467985               False  \n",
       "8                0.826450                True  \n",
       "9                0.493144               False  "
      ]
     },
     "execution_count": 112,
     "metadata": {},
     "output_type": "execute_result"
    }
   ],
   "source": [
    "df_test[\"Predicted class\"] = pred_df['Class']\n",
    "df_test[\"Predicted label\"] = pred_df['label']\n",
    "df_test[\"Prediction probability\"] = pred_df['score']\n",
    "df_test[\"Prediction correct\"] = pred_df['Correct']\n",
    "df_test.head(10)"
   ]
  },
  {
   "cell_type": "code",
   "execution_count": 111,
   "id": "11b670cd-ce1c-48d8-b049-dfe02da83a30",
   "metadata": {},
   "outputs": [
    {
     "name": "stdout",
     "output_type": "stream",
     "text": [
      "The accuracy score of the monologg model is 0.603464160678091\n"
     ]
    }
   ],
   "source": [
    "print('The accuracy score of the monologg model is', pred_df['Correct'].mean())"
   ]
  }
 ],
 "metadata": {
  "kernelspec": {
   "display_name": "Python 3 (ipykernel)",
   "language": "python",
   "name": "python3"
  },
  "language_info": {
   "codemirror_mode": {
    "name": "ipython",
    "version": 3
   },
   "file_extension": ".py",
   "mimetype": "text/x-python",
   "name": "python",
   "nbconvert_exporter": "python",
   "pygments_lexer": "ipython3",
   "version": "3.9.16"
  }
 },
 "nbformat": 4,
 "nbformat_minor": 5
}
